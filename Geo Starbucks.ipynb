{
 "cells": [
  {
   "cell_type": "markdown",
   "metadata": {},
   "source": [
    "requests 위치 데이터 가져오기\n",
    "json_normalize(): JSON 데이터 DataFrame으로 전환\n",
    "folium 을 사용하여 지도에 위치 표시"
   ]
  },
  {
   "cell_type": "code",
   "execution_count": 1,
   "metadata": {},
   "outputs": [],
   "source": [
    "import requests\n",
    "import json\n",
    "import pandas as pd\n",
    "#from pandas.io.json import json_normalize"
   ]
  },
  {
   "cell_type": "code",
   "execution_count": 2,
   "metadata": {},
   "outputs": [
    {
     "data": {
      "text/plain": [
       "'{\"list\":[{\"seq\":0,\"sido_cd\":null,\"sido_nm\":null,\"gugun_cd\":null,\"gugun_nm\":null,\"code_order\":null,\"view_yn\":null,\"store_num\":null,\"sido\":null,\"gugun\":null,\"address\":null,\"new_img_nm\":null,\"p_pro_seq\":0,\"p_view_yn\":null,\"p_sido_cd\":\"\",\"p_gugun_cd\":\"\",\"p_store_nm\":null,\"p_theme_cd\":null,\"p_wireless_yn\":null,\"p_smoking_yn\":null,\"p_book_yn\":null,\"p_music_yn\":null,\"p_terrace_yn\":null,\"p_table_yn\":null,\"p_takeout_yn\":null,\"p_parking_yn\":null,\"p_dollar_assent\":null,\"p_card_recharge\":null,\"p_subway_yn\":null,\"stb_store_file_renew\":null,\"stb_store_theme_renew\":null,\"stb_store_time_renew\":null,\"stb_store_lsm\":null,\"s_code\":\"1509\",\"s_name\":\"역삼아레나빌딩\",\"tel\":\"02-568-3762\",\"fax\":\"02-568-3763\",\"sido_code\":\"01\",\"sido_name\":\"서울\",\"gugun_code\":\"0101\",\"gugun_name\":\"강남구\",\"addr\":\"서울특별시 강남구 역삼동 721-13 아레나빌딩\",\"park_info\":null,\"new_state\":null,\"theme_state\":\"T04@T05@T08@T16@T17@T20@T21@P80@P90\",\"new_bool\":0,\"search_text\":\"\",\"ins_lat\":\"\",\"ins_lng\":\"\",\"in_distance\":0,\"out_distance\":\"9.26\",\"all_search_cnt\":-1,\"addr'"
      ]
     },
     "execution_count": 2,
     "metadata": {},
     "output_type": "execute_result"
    }
   ],
   "source": [
    "data = {\n",
    "    'ins_lat':'37.56682', # 지정한 위도와 경도에서 가까운 순으로 나열\n",
    "    'ins_lng':'126.97865',\n",
    "    'p_sido_cd':'01', # 01=서울시, 08=경기 ... 16=제주\n",
    "    'p_gugun_cd':'',  # 세부지역 (지정하지 않으면 시/도 전체)\n",
    "    'in_biz_cd':'',\n",
    "    'set_date':'',\n",
    "    'iend':'1000',\n",
    "}\n",
    "    \n",
    "url = 'https://www.istarbucks.co.kr/store/getStore.do'\n",
    "r = requests.post(url, data=data)\n",
    "\n",
    "r.text[:1000] # 수신된 데이터의 앞부분만 확인"
   ]
  },
  {
   "cell_type": "code",
   "execution_count": 3,
   "metadata": {},
   "outputs": [],
   "source": [
    "jo = json.loads(r.text)\n",
    "df = pd.json_normalize(jo, 'list')\n"
   ]
  },
  {
   "cell_type": "code",
   "execution_count": 4,
   "metadata": {},
   "outputs": [
    {
     "data": {
      "text/plain": [
       "509"
      ]
     },
     "execution_count": 4,
     "metadata": {},
     "output_type": "execute_result"
    }
   ],
   "source": [
    "# 행(row)수, 서울 457개 매장\n",
    "len(df) "
   ]
  },
  {
   "cell_type": "code",
   "execution_count": 5,
   "metadata": {},
   "outputs": [
    {
     "data": {
      "text/plain": [
       "Index(['seq', 'sido_cd', 'sido_nm', 'gugun_cd', 'gugun_nm', 'code_order',\n",
       "       'view_yn', 'store_num', 'sido', 'gugun',\n",
       "       ...\n",
       "       'p60', 'p30', 'p70', 'p40', 'p80', 't22', 't21', 'p90', 't05', 't30'],\n",
       "      dtype='object', length=122)"
      ]
     },
     "execution_count": 5,
     "metadata": {},
     "output_type": "execute_result"
    }
   ],
   "source": [
    "# 컬럼수 111개\n",
    "df.columns"
   ]
  },
  {
   "cell_type": "code",
   "execution_count": 6,
   "metadata": {},
   "outputs": [
    {
     "data": {
      "text/html": [
       "<div>\n",
       "<style scoped>\n",
       "    .dataframe tbody tr th:only-of-type {\n",
       "        vertical-align: middle;\n",
       "    }\n",
       "\n",
       "    .dataframe tbody tr th {\n",
       "        vertical-align: top;\n",
       "    }\n",
       "\n",
       "    .dataframe thead th {\n",
       "        text-align: right;\n",
       "    }\n",
       "</style>\n",
       "<table border=\"1\" class=\"dataframe\">\n",
       "  <thead>\n",
       "    <tr style=\"text-align: right;\">\n",
       "      <th></th>\n",
       "      <th>s_name</th>\n",
       "      <th>lat</th>\n",
       "      <th>lot</th>\n",
       "      <th>sido_name</th>\n",
       "      <th>gugun_name</th>\n",
       "      <th>doro_address</th>\n",
       "      <th>tel</th>\n",
       "    </tr>\n",
       "  </thead>\n",
       "  <tbody>\n",
       "    <tr>\n",
       "      <th>0</th>\n",
       "      <td>역삼아레나빌딩</td>\n",
       "      <td>37.501087</td>\n",
       "      <td>127.043069</td>\n",
       "      <td>서울</td>\n",
       "      <td>강남구</td>\n",
       "      <td>서울특별시 강남구 언주로 425 (역삼동)</td>\n",
       "      <td>02-568-3762</td>\n",
       "    </tr>\n",
       "    <tr>\n",
       "      <th>1</th>\n",
       "      <td>논현역사거리</td>\n",
       "      <td>37.510178</td>\n",
       "      <td>127.022223</td>\n",
       "      <td>서울</td>\n",
       "      <td>강남구</td>\n",
       "      <td>서울특별시 강남구 강남대로 538 (논현동)</td>\n",
       "      <td>02-3442-3672</td>\n",
       "    </tr>\n",
       "    <tr>\n",
       "      <th>2</th>\n",
       "      <td>신사역성일빌딩</td>\n",
       "      <td>37.514132</td>\n",
       "      <td>127.020563</td>\n",
       "      <td>서울</td>\n",
       "      <td>강남구</td>\n",
       "      <td>서울특별시 강남구 강남대로 584 (논현동)</td>\n",
       "      <td>02-547-3858</td>\n",
       "    </tr>\n",
       "    <tr>\n",
       "      <th>3</th>\n",
       "      <td>국기원사거리</td>\n",
       "      <td>37.499517</td>\n",
       "      <td>127.031495</td>\n",
       "      <td>서울</td>\n",
       "      <td>강남구</td>\n",
       "      <td>서울특별시 강남구 테헤란로 125 (역삼동)</td>\n",
       "      <td>02-568-3668</td>\n",
       "    </tr>\n",
       "    <tr>\n",
       "      <th>4</th>\n",
       "      <td>스탈릿대치R</td>\n",
       "      <td>37.494668</td>\n",
       "      <td>127.062583</td>\n",
       "      <td>서울</td>\n",
       "      <td>강남구</td>\n",
       "      <td>서울특별시 강남구 남부순환로 2947 (대치동)</td>\n",
       "      <td>02-568-3704</td>\n",
       "    </tr>\n",
       "  </tbody>\n",
       "</table>\n",
       "</div>"
      ],
      "text/plain": [
       "    s_name        lat         lot sido_name gugun_name  \\\n",
       "0  역삼아레나빌딩  37.501087  127.043069        서울        강남구   \n",
       "1   논현역사거리  37.510178  127.022223        서울        강남구   \n",
       "2  신사역성일빌딩  37.514132  127.020563        서울        강남구   \n",
       "3   국기원사거리  37.499517  127.031495        서울        강남구   \n",
       "4   스탈릿대치R  37.494668  127.062583        서울        강남구   \n",
       "\n",
       "                 doro_address           tel  \n",
       "0     서울특별시 강남구 언주로 425 (역삼동)   02-568-3762  \n",
       "1    서울특별시 강남구 강남대로 538 (논현동)  02-3442-3672  \n",
       "2    서울특별시 강남구 강남대로 584 (논현동)   02-547-3858  \n",
       "3    서울특별시 강남구 테헤란로 125 (역삼동)   02-568-3668  \n",
       "4  서울특별시 강남구 남부순환로 2947 (대치동)   02-568-3704  "
      ]
     },
     "execution_count": 6,
     "metadata": {},
     "output_type": "execute_result"
    }
   ],
   "source": [
    "df = df[['s_name', 'lat', 'lot', 'sido_name', 'gugun_name', 'doro_address', 'tel']]\n",
    "df.head()"
   ]
  },
  {
   "cell_type": "code",
   "execution_count": 7,
   "metadata": {
    "scrolled": true
   },
   "outputs": [
    {
     "data": {
      "text/html": [
       "<div style=\"width:100%;\"><div style=\"position:relative;width:100%;height:0;padding-bottom:60%;\"><iframe src=\"data:text/html;charset=utf-8;base64,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\" style=\"position:absolute;width:100%;height:100%;left:0;top:0;border:none !important;\" allowfullscreen webkitallowfullscreen mozallowfullscreen></iframe></div></div>"
      ],
      "text/plain": [
       "<folium.folium.Map at 0x115346898>"
      ]
     },
     "execution_count": 7,
     "metadata": {},
     "output_type": "execute_result"
    }
   ],
   "source": [
    "import folium\n",
    "\n",
    "# 서울 시청 \n",
    "map_osm = folium.Map(location=(37.56629, 126.979808))\n",
    "map_osm"
   ]
  },
  {
   "cell_type": "code",
   "execution_count": 8,
   "metadata": {},
   "outputs": [
    {
     "data": {
      "text/html": [
       "<div style=\"width:100%;\"><div style=\"position:relative;width:100%;height:0;padding-bottom:60%;\"><iframe src=\"data:text/html;charset=utf-8;base64,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\" style=\"position:absolute;width:100%;height:100%;left:0;top:0;border:none !important;\" allowfullscreen webkitallowfullscreen mozallowfullscreen></iframe></div></div>"
      ],
      "text/plain": [
       "<folium.folium.Map at 0x115c7e9b0>"
      ]
     },
     "execution_count": 8,
     "metadata": {},
     "output_type": "execute_result"
    }
   ],
   "source": [
    "# 확대 지정 (zoom_start)\n",
    "map_osm = folium.Map(location=(37.56629, 126.979808), zoom_start=17)\n",
    "map_osm"
   ]
  },
  {
   "cell_type": "code",
   "execution_count": 9,
   "metadata": {},
   "outputs": [
    {
     "data": {
      "text/html": [
       "<div style=\"width:100%;\"><div style=\"position:relative;width:100%;height:0;padding-bottom:60%;\"><iframe src=\"data:text/html;charset=utf-8;base64,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\" style=\"position:absolute;width:100%;height:100%;left:0;top:0;border:none !important;\" allowfullscreen webkitallowfullscreen mozallowfullscreen></iframe></div></div>"
      ],
      "text/plain": [
       "<folium.folium.Map at 0x115c66ba8>"
      ]
     },
     "execution_count": 9,
     "metadata": {},
     "output_type": "execute_result"
    }
   ],
   "source": [
    "# 지도 tiles 지정\n",
    "map_osm = folium.Map(location=(37.56629, 126.979808), zoom_start=17, tiles='Stamen Toner')\n",
    "map_osm"
   ]
  },
  {
   "cell_type": "code",
   "execution_count": 10,
   "metadata": {},
   "outputs": [
    {
     "data": {
      "text/html": [
       "<div style=\"width:100%;\"><div style=\"position:relative;width:100%;height:0;padding-bottom:60%;\"><iframe src=\"data:text/html;charset=utf-8;base64,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\" style=\"position:absolute;width:100%;height:100%;left:0;top:0;border:none !important;\" allowfullscreen webkitallowfullscreen mozallowfullscreen></iframe></div></div>"
      ],
      "text/plain": [
       "<folium.folium.Map at 0x115c81b00>"
      ]
     },
     "execution_count": 10,
     "metadata": {},
     "output_type": "execute_result"
    }
   ],
   "source": [
    "시청_좌표=(37.56629, 126.979808)\n",
    " \n",
    "map_osm = folium.Map(location=시청_좌표, zoom_start=17)\n",
    "folium.Marker(시청_좌표, popup='시청').add_to(map_osm)\n",
    "map_osm"
   ]
  },
  {
   "cell_type": "code",
   "execution_count": 11,
   "metadata": {
    "scrolled": true
   },
   "outputs": [
    {
     "data": {
      "text/html": [
       "<div style=\"width:100%;\"><div style=\"position:relative;width:100%;height:0;padding-bottom:60%;\"><iframe src=\"data:text/html;charset=utf-8;base64,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\" style=\"position:absolute;width:100%;height:100%;left:0;top:0;border:none !important;\" allowfullscreen webkitallowfullscreen mozallowfullscreen></iframe></div></div>"
      ],
      "text/plain": [
       "<folium.folium.Map at 0x1124c1048>"
      ]
     },
     "execution_count": 11,
     "metadata": {},
     "output_type": "execute_result"
    }
   ],
   "source": [
    "# 천안 시청 \n",
    "천안시청=(36.8151, 127.1139)\n",
    "data = {\n",
    "    'ins_lat': '36.8151', # 천안 시청의 좌표\n",
    "    'ins_lng': '127.1139',\n",
    "    'p_sido_cd':'14', # 01=서울시, 08=경기 ... 16=제주\n",
    "    'p_gugun_cd':'',  # 세부지역 (지정하지 않으면 시/도 전체)\n",
    "    'in_biz_cd':'',\n",
    "    'set_date':'',\n",
    "    'iend':'1000',\n",
    "}\n",
    "url = 'https://www.istarbucks.co.kr/store/getStore.do'\n",
    "r = requests.post(url, data=data)\n",
    "df = pd.json_normalize(json.loads(r.text), 'list')\n",
    "\n",
    "map_osm = folium.Map(location=천안시청, zoom_start=12)\n",
    "\n",
    "for ix, row in df.iterrows():\n",
    "    location = (row['lat'], row['lot'])\n",
    "    folium.Marker(location, popup=row['s_name']).add_to(map_osm)\n",
    "\n",
    "map_osm"
   ]
  },
  {
   "cell_type": "code",
   "execution_count": null,
   "metadata": {},
   "outputs": [],
   "source": []
  }
 ],
 "metadata": {
  "kernelspec": {
   "display_name": "Python 3",
   "language": "python",
   "name": "python3"
  },
  "language_info": {
   "codemirror_mode": {
    "name": "ipython",
    "version": 3
   },
   "file_extension": ".py",
   "mimetype": "text/x-python",
   "name": "python",
   "nbconvert_exporter": "python",
   "pygments_lexer": "ipython3",
   "version": "3.6.5"
  }
 },
 "nbformat": 4,
 "nbformat_minor": 2
}
